{
 "cells": [
  {
   "cell_type": "markdown",
   "metadata": {},
   "source": [
    "## Observations and Insights "
   ]
  },
  {
   "cell_type": "code",
   "execution_count": 1,
   "metadata": {},
   "outputs": [
    {
     "data": {
      "text/html": [
       "<div>\n",
       "<style scoped>\n",
       "    .dataframe tbody tr th:only-of-type {\n",
       "        vertical-align: middle;\n",
       "    }\n",
       "\n",
       "    .dataframe tbody tr th {\n",
       "        vertical-align: top;\n",
       "    }\n",
       "\n",
       "    .dataframe thead th {\n",
       "        text-align: right;\n",
       "    }\n",
       "</style>\n",
       "<table border=\"1\" class=\"dataframe\">\n",
       "  <thead>\n",
       "    <tr style=\"text-align: right;\">\n",
       "      <th></th>\n",
       "      <th>Mouse ID</th>\n",
       "      <th>Drug Regimen</th>\n",
       "      <th>Sex</th>\n",
       "      <th>Age_months</th>\n",
       "      <th>Weight (g)</th>\n",
       "      <th>Timepoint</th>\n",
       "      <th>Tumor Volume (mm3)</th>\n",
       "      <th>Metastatic Sites</th>\n",
       "    </tr>\n",
       "  </thead>\n",
       "  <tbody>\n",
       "    <tr>\n",
       "      <th>0</th>\n",
       "      <td>k403</td>\n",
       "      <td>Ramicane</td>\n",
       "      <td>Male</td>\n",
       "      <td>21</td>\n",
       "      <td>16</td>\n",
       "      <td>0</td>\n",
       "      <td>45.000000</td>\n",
       "      <td>0</td>\n",
       "    </tr>\n",
       "    <tr>\n",
       "      <th>1</th>\n",
       "      <td>k403</td>\n",
       "      <td>Ramicane</td>\n",
       "      <td>Male</td>\n",
       "      <td>21</td>\n",
       "      <td>16</td>\n",
       "      <td>5</td>\n",
       "      <td>38.825898</td>\n",
       "      <td>0</td>\n",
       "    </tr>\n",
       "    <tr>\n",
       "      <th>2</th>\n",
       "      <td>k403</td>\n",
       "      <td>Ramicane</td>\n",
       "      <td>Male</td>\n",
       "      <td>21</td>\n",
       "      <td>16</td>\n",
       "      <td>10</td>\n",
       "      <td>35.014271</td>\n",
       "      <td>1</td>\n",
       "    </tr>\n",
       "    <tr>\n",
       "      <th>3</th>\n",
       "      <td>k403</td>\n",
       "      <td>Ramicane</td>\n",
       "      <td>Male</td>\n",
       "      <td>21</td>\n",
       "      <td>16</td>\n",
       "      <td>15</td>\n",
       "      <td>34.223992</td>\n",
       "      <td>1</td>\n",
       "    </tr>\n",
       "    <tr>\n",
       "      <th>4</th>\n",
       "      <td>k403</td>\n",
       "      <td>Ramicane</td>\n",
       "      <td>Male</td>\n",
       "      <td>21</td>\n",
       "      <td>16</td>\n",
       "      <td>20</td>\n",
       "      <td>32.997729</td>\n",
       "      <td>1</td>\n",
       "    </tr>\n",
       "  </tbody>\n",
       "</table>\n",
       "</div>"
      ],
      "text/plain": [
       "  Mouse ID Drug Regimen   Sex  Age_months  Weight (g)  Timepoint  \\\n",
       "0     k403     Ramicane  Male          21          16          0   \n",
       "1     k403     Ramicane  Male          21          16          5   \n",
       "2     k403     Ramicane  Male          21          16         10   \n",
       "3     k403     Ramicane  Male          21          16         15   \n",
       "4     k403     Ramicane  Male          21          16         20   \n",
       "\n",
       "   Tumor Volume (mm3)  Metastatic Sites  \n",
       "0           45.000000                 0  \n",
       "1           38.825898                 0  \n",
       "2           35.014271                 1  \n",
       "3           34.223992                 1  \n",
       "4           32.997729                 1  "
      ]
     },
     "execution_count": 1,
     "metadata": {},
     "output_type": "execute_result"
    }
   ],
   "source": [
    "# Dependencies and Setup\n",
    "import matplotlib.pyplot as plt\n",
    "import pandas as pd\n",
    "import scipy.stats as st\n",
    "import numpy as np\n",
    "import os\n",
    "\n",
    "# Study data files\n",
    "mouse_metadata_path = \"data/Mouse_metadata.csv\"\n",
    "study_results_path = \"data/Study_results.csv\"\n",
    "\n",
    "# Read the mouse data and the study results\n",
    "mouse_metadata = pd.read_csv(mouse_metadata_path)\n",
    "study_results = pd.read_csv(study_results_path)\n",
    "\n",
    "# Combine the data into a single dataset\n",
    "combine_ms_df = pd.merge(mouse_metadata, study_results, on = 'Mouse ID' )\n",
    "# Display the data table for preview\n",
    "combine_ms_df.head()"
   ]
  },
  {
   "cell_type": "code",
   "execution_count": 2,
   "metadata": {},
   "outputs": [
    {
     "data": {
      "text/plain": [
       "249"
      ]
     },
     "execution_count": 2,
     "metadata": {},
     "output_type": "execute_result"
    }
   ],
   "source": [
    "# Checking the number of mice\n",
    "mice_count_df = combine_ms_df[\"Mouse ID\"].nunique()\n",
    "mice_count_df"
   ]
  },
  {
   "cell_type": "code",
   "execution_count": null,
   "metadata": {},
   "outputs": [],
   "source": [
    "# Getting the duplicate mice by ID number that shows up for Mouse ID and Timepoint. \n",
    "combine_ms_df[[\"Mouse ID\", \"Timepoint\"]].duplicated()\n"
   ]
  },
  {
   "cell_type": "code",
   "execution_count": null,
   "metadata": {},
   "outputs": [],
   "source": [
    "# Optional: Get all the data for the duplicate mouse ID. \n",
    "dup_combine_df = combine_ms_df[combine_ms_df.duplicated(['Mouse ID', 'Timepoint'], keep=False)]\n",
    "dup_combine_df"
   ]
  },
  {
   "cell_type": "code",
   "execution_count": null,
   "metadata": {},
   "outputs": [],
   "source": [
    "# Create a clean DataFrame by dropping the duplicate mouse by its ID.\n",
    "index_names = combine_ms_df[combine_ms_df['Mouse ID']=='g989'].index\n",
    "\n",
    "new_combine_ms_df = combine_ms_df.drop(index_names)\n",
    "\n",
    "new_combine_ms_df.head()"
   ]
  },
  {
   "cell_type": "code",
   "execution_count": null,
   "metadata": {},
   "outputs": [],
   "source": [
    "# Checking the number of mice in the clean DataFrame.\n",
    "new_mouse_df = new_combine_ms_df[\"Mouse ID\"].nunique()\n",
    "new_mouse_df"
   ]
  },
  {
   "cell_type": "markdown",
   "metadata": {},
   "source": [
    "## Summary Statistics"
   ]
  },
  {
   "cell_type": "code",
   "execution_count": null,
   "metadata": {},
   "outputs": [],
   "source": [
    "# Generate a summary statistics table of mean, median, variance, standard deviation, and SEM of the tumor volume for each regimen\n",
    "\n",
    "# Use groupby and summary statistical methods to calculate the following properties of each drug regimen: \n",
    "# mean, median, variance, standard deviation, and SEM of the tumor volume. \n",
    "# Assemble the resulting series into a single summary dataframe.\n",
    "drug_df = new_combine_ms_df.groupby(\"Drug Regimen\")\n",
    "\n",
    "#perform calculations\n",
    "drug_mean = drug_df[\"Tumor Volume (mm3)\"].mean()\n",
    "drug_median = drug_df[\"Tumor Volume (mm3)\"].median()\n",
    "drug_var = drug_df[\"Tumor Volume (mm3)\"].var()\n",
    "drug_stddev = drug_df[\"Tumor Volume (mm3)\"].std()\n",
    "drug_sem = drug_df[\"Tumor Volume (mm3)\"].sem()\n",
    "\n",
    "#create dataframe for calculations\n",
    "drug_calc_df = pd.DataFrame({\n",
    "    \"Tumor Vol Mean\": drug_mean,\n",
    "    \"Tumor Vol Median\": drug_median,\n",
    "    \"Tumor Vol Variance\": drug_var,\n",
    "    \"Tumor Vol Standard Dev\": drug_stddev,\n",
    "    \"Tumor Vol SEM\": drug_sem\n",
    "})\n",
    "\n",
    "#format numbers\n",
    "drug_calc_df[\"Tumor Vol Mean\"] = drug_calc_df[\"Tumor Vol Mean\"].map(\"{:,.2f}\".format)\n",
    "drug_calc_df[\"Tumor Vol Median\"] = drug_calc_df[\"Tumor Vol Median\"].map(\"{:,.2f}\".format)\n",
    "drug_calc_df[\"Tumor Vol Variance\"] = drug_calc_df[\"Tumor Vol Variance\"].map(\"{:,.2f}\".format)\n",
    "drug_calc_df[\"Tumor Vol Standard Dev\"] = drug_calc_df[\"Tumor Vol Standard Dev\"].map(\"{:,.2f}\".format)\n",
    "drug_calc_df[\"Tumor Vol SEM\"] = drug_calc_df[\"Tumor Vol SEM\"].map(\"{:,.4f}\".format)\n",
    "\n",
    "#print table\n",
    "drug_calc_df"
   ]
  },
  {
   "cell_type": "code",
   "execution_count": null,
   "metadata": {},
   "outputs": [],
   "source": [
    "# Generate a summary statistics table of mean, median, variance, standard deviation, and SEM of the tumor volume for each regimen\n",
    "\n",
    "# Using the aggregation method, produce the same summary statistics in a single line\n",
    "drug_df[\"Tumor Volume (mm3)\"].agg(['mean','median','var', 'std','sem'])"
   ]
  },
  {
   "cell_type": "markdown",
   "metadata": {},
   "source": [
    "## Bar and Pie Charts"
   ]
  },
  {
   "cell_type": "code",
   "execution_count": null,
   "metadata": {},
   "outputs": [],
   "source": [
    "# Generate a bar plot showing the total number of measurements taken on each drug regimen using pandas.\n",
    "drug_df[\"Tumor Volume (mm3)\"].count().plot(kind = \"bar\", title =\n",
    "                                          \"Measurment per Regimen\", width = .75)\n",
    "\n",
    "plt.ylabel(\"Number of Measurement\")\n",
    "plt.tight_layout()\n",
    "plt.show()\n"
   ]
  },
  {
   "cell_type": "code",
   "execution_count": null,
   "metadata": {},
   "outputs": [],
   "source": [
    "# Generate a bar plot showing the total number of measurements taken on each drug regimen using pyplot.\n",
    "bar_plot_df = pd.DataFrame(drug_df[\"Tumor Volume (mm3)\"].count())\n",
    "bar_plot_df = bar_plot_df.reset_index()\n",
    "\n",
    "drugs_bar_plot = bar_plot_df[\"Drug Regimen\"]\n",
    "measurements = bar_plot_df[\"Tumor Volume (mm3)\"]\n",
    "\n",
    "x_axis = len(drugs_bar_plot)\n",
    "plt.title(\"Measurments per Regimen\", loc='center')\n",
    "plt.xlim(-.75, len(drugs_bar_plot)-.25)\n",
    "plt.ylim(0, max(measurements) +10)\n",
    "plt.xticks(rotation = 90)\n",
    "plt.bar(drugs_bar_plot, measurements, width =.75, align =\"center\")\n",
    "plt.ylabel(\"Measurements\")\n",
    "plt.xlabel(\"Drug Regimen\")\n",
    "\n",
    "plt.tight_layout()\n",
    "plt.show()\n"
   ]
  },
  {
   "cell_type": "code",
   "execution_count": null,
   "metadata": {},
   "outputs": [],
   "source": [
    "# Generate a pie plot showing the distribution of female versus male mice using pandas\n",
    "\n",
    "new_combine_ms_df[\"Sex\"].value_counts().plot(kind = \"pie\", \n",
    "                                             title = \"Mice By Gender\", autopct=\"%1.1f%%\")\n",
    "\n",
    "plt.tight_layout()\n",
    "plt.show()"
   ]
  },
  {
   "cell_type": "code",
   "execution_count": null,
   "metadata": {},
   "outputs": [],
   "source": [
    "# Generate a pie plot showing the distribution of female versus male mice using pyplot\n",
    "values = new_combine_ms_df[\"Sex\"].value_counts()\n",
    "categories = new_combine_ms_df[\"Sex\"].unique()\n",
    "\n",
    "labels = categories\n",
    "\n",
    "fig1, ax1 = plt.subplots()\n",
    "ax1.pie(values, labels=labels, autopct='%1.1f%%')\n",
    "ax1.set_title('Mice by Gender')\n",
    "ax1.set_ylabel('Sex')\n",
    "\n",
    "plt.tight_layout\n",
    "plt.show()\n"
   ]
  },
  {
   "cell_type": "markdown",
   "metadata": {},
   "source": [
    "## Quartiles, Outliers and Boxplots"
   ]
  },
  {
   "cell_type": "code",
   "execution_count": null,
   "metadata": {},
   "outputs": [],
   "source": [
    "# Calculate the final tumor volume of each mouse across four of the treatment regimens:  \n",
    "# Capomulin, Ramicane, Infubinol, and Ceftamin\n",
    "\n",
    "# Start by getting the last (greatest) timepoint for each mouse\n",
    "mouse_id_df = new_combine_ms_df.groupby([\"Mouse ID\", \"Drug Regimen\"], as_index=False)\n",
    "mouse_id_df = pd.DataFrame(mouse_id_df[\"Timepoint\"].max())\n",
    "\n",
    "# Merge this group df with the original dataframe to get the tumor volume at the last timepoint\n",
    "mouse_final_df = mouse_id_df.merge(new_combine_ms_df)\n",
    "\n",
    "index_names = mouse_final_df[(mouse_final_df[\"Drug Regimen\"]!=\"Capomulin\")\n",
    "                            & (mouse_final_df[\"Drug Regimen\"]!= \"Ramicane\")\n",
    "                            & (mouse_final_df[\"Drug Regimen\"]!= \"Infubinol\")\n",
    "                            & (mouse_final_df[\"Drug Regimen\"]!=\"Ceftamin\")].index\n",
    "\n",
    "#drop indexes\n",
    "mouse_final_df.drop(index_names, inplace = True)\n",
    "\n",
    "#display df \n",
    "mouse_final_df.head()\n"
   ]
  },
  {
   "cell_type": "code",
   "execution_count": null,
   "metadata": {},
   "outputs": [],
   "source": [
    "# Put treatments into a list for for loop (and later for plot labels)\n",
    "treatment_list = [\"Capomulin\", \"Ramicane\", \"Infubinol\", \"Ceftamin\"]\n",
    "\n",
    "d_volume_df = mouse_final_df.loc[:, [\"Drug Regimen\", \"Tumor Volume (mm3)\"]]\n",
    "d_volume_df.values.tolist()\n",
    "d_volume_list = d_volume_df.to_numpy().tolist()\n",
    "\n",
    "# Create empty list to fill with tumor vol data (for plotting)\n",
    "Capomulin_tumor_vol_data =[]\n",
    "Ramicane_tumor_vol_data =[]\n",
    "Infubinol_tumor_vol_data =[]\n",
    "Ceftamin_tumor_vol_data =[]\n",
    "\n",
    "# Calculate the IQR and quantitatively determine if there are any potential outliers.\n",
    "q3 = mouse_final_df[\"Tumor Volume (mm3)\"].quantile(q=.75)\n",
    "q1 = mouse_final_df[\"Tumor Volume (mm3)\"].quantile(q=.25)\n",
    "iqr = q3 - q1\n",
    "\n",
    "print(f\"The lower quartile of tumor volume is: {q1}\")\n",
    "print(f\"The upper quartile of tumor volume is: {q3}\")\n",
    "print(f\"The interquartile range of tumor volume is: {iqr}\")\n",
    "\n",
    "#find outliers\n",
    "upper_bound = q3 + (iqr * 1.5)\n",
    "lower_bound = q1 + (iqr * 1.5)\n",
    "\n",
    "print(f\"The upper bound is: {upper_bound}\")\n",
    "print(f\"The lower bound is: {lower_bound}\")\n",
    "\n",
    "# Locate the rows which contain mice on each drug and get the tumor volumes\n",
    "# add subset \n",
    "drugs, vol = zip(*d_volume_list)\n",
    "\n",
    "for index, drug in enumerate(drugs):\n",
    "    if drug == \"Capomulin\":\n",
    "        Capomulin_tumor_vol_data.append(vol[index])\n",
    "    elif drug == \"Ramicane\":\n",
    "        Ramicane_tumor_vol_data.append(vol[index])\n",
    "    elif drug == \"Infubinol\":\n",
    "        Infubinol_tumor_vol_data.append(vol[index])\n",
    "    elif drug == \"Ceftamin\":\n",
    "        Ceftamin_tumor_vol_data.append(vol[index])\n",
    "\n",
    "\n",
    "\n",
    "# Determine outliers using upper and lower bounds\n",
    "outlier_df = mouse_final_df.loc[(mouse_final_df['Tumor Volume (mm3)'] < lower_bound)\n",
    "                                |(mouse_final_df['Tumor Volume (mm3)'] > upper_bound)]\n",
    "outlier_df.head()"
   ]
  },
  {
   "cell_type": "code",
   "execution_count": null,
   "metadata": {},
   "outputs": [],
   "source": [
    "# Generate a box plot of the final tumor volume of each mouse across four regimens of interest\n",
    "red = dict(markerfacecolor ='r', marker='D')\n",
    "fig1, ax1 = plt.subplots()\n",
    "ax1.set_title('Final Tumor Volume')\n",
    "ax1.set_xticklabels([\"Capomulin\", \"Ramicane\", \"Infubinol\", \"Ceftamin\"], fontsize=10)\n",
    "ax1.boxplot([Capomulin_tumor_vol_data,Ramicane_tumor_vol_data, Infubinol_tumor_vol_data,Ceftamin_tumor_vol_data ]\n",
    "           , flierprops = red)\n",
    "plt.show()"
   ]
  },
  {
   "cell_type": "markdown",
   "metadata": {},
   "source": [
    "## Line and Scatter Plots"
   ]
  },
  {
   "cell_type": "code",
   "execution_count": null,
   "metadata": {},
   "outputs": [],
   "source": [
    "# Generate a line plot of tumor volume vs. time point for a mouse treated with Capomulin\n",
    "index_names2 = new_combine_ms_df[new_combine_ms_df['Mouse ID']!= \"b128\"].index\n",
    "tumor_volume_df = new_combine_ms_df.drop(index_names2)\n",
    "tumor_volume_df = tumor_volume_df.set_index(\"Timepoint\")\n",
    "\n",
    "#line graph\n",
    "plt.ylabel('Tumor Volume (mm3)')\n",
    "tumor_volume_df[\"Tumor Volume (mm3)\"].plot.line(title=\"Tumor Test for Capomulin Mouse\")"
   ]
  },
  {
   "cell_type": "code",
   "execution_count": null,
   "metadata": {},
   "outputs": [],
   "source": [
    "# Generate a scatter plot of average tumor volume vs. mouse weight for the Capomulin regimen\n",
    "index_names3 = new_combine_ms_df[new_combine_ms_df[\"Drug Regimen\"]!= \"Capomulin\"].index\n",
    "avg_tumor_vol = new_combine_ms_df.drop(index_names3)\n",
    "avg_tumor_vol = avg_tumor_vol.groupby([\"Mouse ID\"]).mean()\n",
    "\n",
    "#add avg_tumor_vol to dv\n",
    "avg_tumor_vol = avg_tumor_vol.rename(columns = {\"Tumor Volume (mm3)\": \"Avg Tumor Vol\"})\n",
    "\n",
    "#create plot\n",
    "avg_tumor_vol.plot.scatter(x = \"Weight (g)\", y = \"Avg Tumor Vol\", title = \"Avg Tumor Vol by Weight\")\n",
    "plt.show()\n"
   ]
  },
  {
   "cell_type": "markdown",
   "metadata": {},
   "source": [
    "## Correlation and Regression"
   ]
  },
  {
   "cell_type": "code",
   "execution_count": null,
   "metadata": {},
   "outputs": [],
   "source": [
    "# Calculate the correlation coefficient and linear regression model \n",
    "# for mouse weight and average tumor volume for the Capomulin regimen\n"
   ]
  },
  {
   "cell_type": "code",
   "execution_count": null,
   "metadata": {},
   "outputs": [],
   "source": []
  }
 ],
 "metadata": {
  "anaconda-cloud": {},
  "kernelspec": {
   "display_name": "Python 3",
   "language": "python",
   "name": "python3"
  },
  "language_info": {
   "codemirror_mode": {
    "name": "ipython",
    "version": 3
   },
   "file_extension": ".py",
   "mimetype": "text/x-python",
   "name": "python",
   "nbconvert_exporter": "python",
   "pygments_lexer": "ipython3",
   "version": "3.8.5"
  }
 },
 "nbformat": 4,
 "nbformat_minor": 4
}
